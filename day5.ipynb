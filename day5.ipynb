{
 "cells": [
  {
   "cell_type": "code",
   "execution_count": 1,
   "metadata": {},
   "outputs": [],
   "source": [
    "import numpy as np\n",
    "from string import ascii_uppercase\n",
    "from load import get_data\n",
    "from sortedcontainers import SortedList"
   ]
  },
  {
   "cell_type": "code",
   "execution_count": 2,
   "metadata": {},
   "outputs": [],
   "source": [
    "file_ex, file_data = get_data('day5')"
   ]
  },
  {
   "cell_type": "code",
   "execution_count": 3,
   "metadata": {},
   "outputs": [],
   "source": [
    "ex_crates, ex_moves= (i.splitlines() for i in file_ex.read().strip('\\n').split('\\n\\n'))\n",
    "data_crates,i_moves = (i.splitlines() for i in file_data.read().strip('\\n').split('\\n\\n'))"
   ]
  },
  {
   "cell_type": "code",
   "execution_count": 10,
   "metadata": {},
   "outputs": [],
   "source": [
    "# ex = file_ex.read().split(\"\\n\")\n",
    "# data = file_data.read().split(\"\\n\")\n",
    "\n",
    "# boxes_raw = []\n",
    "# moves = []\n",
    "# for irow in range(len(data)):\n",
    "#     if ' 1' in data[irow]:\n",
    "#         for i in data[irow+2:]:\n",
    "#             moves.append(i.replace(\"move \", \"\").replace(\" from \", \" \").replace(\" to \", \" \").split())\n",
    "#         break\n",
    "#     else:\n",
    "#         boxes_raw.append(data[irow+1])"
   ]
  },
  {
   "cell_type": "code",
   "execution_count": 4,
   "metadata": {},
   "outputs": [
    {
     "name": "stdout",
     "output_type": "stream",
     "text": [
      "Answer to part 1:  VRWBSFZWM\n",
      "Answer to part 2:  RBTWJWMCF\n"
     ]
    }
   ],
   "source": [
    "stacks = {int(i):[] for i in data_crates[-1].replace(' ', '') }\n",
    "indexes  = [idx for idx,char in enumerate(data_crates[-1]) if char != ' ']\n",
    "\n",
    "# Used to display the contents in each stack\n",
    "def displayStacks():\n",
    "    print(\"\\n\\nStacks:\\n\")\n",
    "    for stack in stacks:\n",
    "        print(stack, stacks[stack])\n",
    "    print(\"\\n\")\n",
    "\n",
    "\n",
    "# Loading the stacks off the input\n",
    "def loadStacks():\n",
    "    for string in data_crates[:-1]:\n",
    "        stack_num = 1\n",
    "        for index in indexes:\n",
    "            if string[index] == \" \":\n",
    "                pass\n",
    "            else:\n",
    "                stacks[stack_num].insert(0, string[index])\n",
    "            stack_num += 1\n",
    "\n",
    "# Clearing the lists in every stack \n",
    "def emptyStacks():\n",
    "    for stack_num in stacks:\n",
    "        stacks[stack_num].clear()\n",
    "\n",
    "# Used to get the characters at the end of every stack \n",
    "def getStackEnds():\n",
    "    answer = \"\"\n",
    "    for stack in stacks:\n",
    "        answer += stacks[stack][-1]\n",
    "    return answer\n",
    "\n",
    "# === PART 1 ===\n",
    "loadStacks()\n",
    "for instruction in i_moves:\n",
    "    instruction = instruction.replace(\"move\", \"\").replace(\"from \", \"\").replace(\"to \", \"\").strip().split(\" \")\n",
    "    instruction = [int(i) for i in instruction]\n",
    "\n",
    "    crates = instruction[0]\n",
    "    from_stack = instruction[1]\n",
    "    to_stack = instruction[2]\n",
    "\n",
    "    for crate in range(crates):\n",
    "        crate_removed = stacks[from_stack].pop()\n",
    "        stacks[to_stack].append(crate_removed)\n",
    "\n",
    "print(\"Answer to part 1: \", getStackEnds())\n",
    "\n",
    "\n",
    "# === PART 2 ===\n",
    "emptyStacks()\n",
    "loadStacks()\n",
    "for instruction in i_moves:\n",
    "    instruction = instruction.replace(\"move\", \"\").replace(\"from \", \"\").replace(\"to \", \"\").strip().split(\" \")\n",
    "    instruction = [int(i) for i in instruction]\n",
    "\n",
    "    crates = instruction[0]\n",
    "    from_stack = instruction[1]\n",
    "    to_stack = instruction[2]\n",
    "\n",
    "    crates_to_remove = stacks[from_stack][-crates:]\n",
    "    stacks[from_stack] = stacks[from_stack][:-crates]\n",
    "\n",
    "    for crate in crates_to_remove:\n",
    "        stacks[to_stack].append(crate)\n",
    "\n",
    "print(\"Answer to part 2: \", getStackEnds())"
   ]
  },
  {
   "cell_type": "code",
   "execution_count": 497,
   "metadata": {},
   "outputs": [],
   "source": [
    "pilhas = {int(i):[] for i in boxes_raw[-1].replace(' ', '') }\n",
    "idxs = [idx for idx,char in enumerate(boxes_raw[-1]) if char != ' ']"
   ]
  },
  {
   "cell_type": "code",
   "execution_count": 472,
   "metadata": {},
   "outputs": [],
   "source": [
    "def clear_stack():\n",
    "    for stack in pilhas:\n",
    "        pilhas[stack].clear()\n",
    "\n",
    "def getEnd():\n",
    "    ans = \"\"\n",
    "    for pilha in pilhas:\n",
    "        ans += pilhas[pilha][-1]\n",
    "\n",
    "    return ans"
   ]
  },
  {
   "cell_type": "code",
   "execution_count": 473,
   "metadata": {},
   "outputs": [],
   "source": [
    "for crate in boxes_raw[:-1]:\n",
    "    stack = 1\n",
    "    for i in idxs:\n",
    "        if crate[i] != ' ':\n",
    "            pilhas[stack].insert(0,crate[i])\n",
    "        stack +=1"
   ]
  },
  {
   "cell_type": "code",
   "execution_count": null,
   "metadata": {},
   "outputs": [],
   "source": [
    "for i in range(len(moves)):\n",
    "    moving = moves[i][0]\n",
    "    to = moves[i][2]\n",
    "    col = moves[i][1]\n",
    "\n",
    "    for move in range(moving+1):\n",
    "        print(pilhas[col])\n",
    "        remove = pilhas[col].pop()\n",
    "        pilhas[to].append(remove)\n",
    " \n",
    "\n",
    "print(getEnd())"
   ]
  }
 ],
 "metadata": {
  "kernelspec": {
   "display_name": "Python 3.9.15 ('base')",
   "language": "python",
   "name": "python3"
  },
  "language_info": {
   "codemirror_mode": {
    "name": "ipython",
    "version": 3
   },
   "file_extension": ".py",
   "mimetype": "text/x-python",
   "name": "python",
   "nbconvert_exporter": "python",
   "pygments_lexer": "ipython3",
   "version": "3.9.15"
  },
  "orig_nbformat": 4,
  "vscode": {
   "interpreter": {
    "hash": "b7e7f70a1c53850bbacb0bdeede57f0a732d69689caac396cbf838bb9eb0c778"
   }
  }
 },
 "nbformat": 4,
 "nbformat_minor": 2
}
