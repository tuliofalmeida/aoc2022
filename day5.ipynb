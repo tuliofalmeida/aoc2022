{
 "cells": [
  {
   "cell_type": "code",
   "execution_count": 1,
   "metadata": {},
   "outputs": [],
   "source": [
    "import numpy as np\n",
    "from string import ascii_uppercase\n",
    "from load import get_data\n",
    "from sortedcontainers import SortedList"
   ]
  },
  {
   "cell_type": "code",
   "execution_count": 2,
   "metadata": {},
   "outputs": [],
   "source": [
    "file_ex, file_data = get_data('day5')"
   ]
  },
  {
   "cell_type": "code",
   "execution_count": 7,
   "metadata": {},
   "outputs": [],
   "source": [
    "ex = file_ex.read().split(\"\\n\")\n",
    "data = file_data.read().split(\"\\n\")"
   ]
  },
  {
   "cell_type": "code",
   "execution_count": 4,
   "metadata": {},
   "outputs": [
    {
     "data": {
      "text/plain": [
       "['    [D]    ',\n",
       " '[N] [C]    ',\n",
       " '[Z] [M] [P]',\n",
       " ' 1   2   3 ',\n",
       " '',\n",
       " 'move 1 from 2 to 1',\n",
       " 'move 3 from 1 to 3',\n",
       " 'move 2 from 2 to 1',\n",
       " 'move 1 from 1 to 2']"
      ]
     },
     "execution_count": 4,
     "metadata": {},
     "output_type": "execute_result"
    }
   ],
   "source": [
    "ex"
   ]
  },
  {
   "cell_type": "code",
   "execution_count": 17,
   "metadata": {},
   "outputs": [],
   "source": [
    "matriz_letter = []\n",
    "boxes_raw = []\n",
    "\n",
    "crate2num = dict(zip(ascii_uppercase, range(1,27)))\n",
    "\n",
    "for row in ex:\n",
    "    if ' 1' in row:\n",
    "        break\n",
    "    else:\n",
    "        boxes_raw.append(row)\n",
    "\n",
    "for i in SortedList(boxes_raw):\n",
    "    matriz_letter.append(i.replace(\"]\", \",\").replace(\"[\", \",\").replace(\", ,\", \",\")[1:-1].replace('   ', \"0\").split(','))\n",
    "\n",
    "matriz = np.zeros((len(matriz_letter),len(matriz_letter[-1])))\n",
    "\n",
    "for i in range(len(matriz_letter)):\n",
    "    for k in range(len(matriz_letter[i])):\n",
    "        for number,letter in enumerate(crate2num):\n",
    "            if matriz_letter[i][k].find(letter) != -1:\n",
    "                # print(matriz_letter[i][k],crate2num[letter])\n",
    "                matriz[i][k] = crate2num[letter]\n"
   ]
  },
  {
   "cell_type": "code",
   "execution_count": 6,
   "metadata": {},
   "outputs": [
    {
     "data": {
      "text/plain": [
       "array([[ 0.,  4.,  0.],\n",
       "       [14.,  3.,  0.],\n",
       "       [26., 13., 16.]])"
      ]
     },
     "execution_count": 6,
     "metadata": {},
     "output_type": "execute_result"
    }
   ],
   "source": [
    "matriz"
   ]
  },
  {
   "cell_type": "code",
   "execution_count": 14,
   "metadata": {},
   "outputs": [],
   "source": [
    "matriz_letter = []\n",
    "boxes_raw = []\n",
    "\n",
    "crate2num = dict(zip(ascii_uppercase, range(1,27)))\n",
    "\n",
    "for row in data:\n",
    "    if ' 1' in row:\n",
    "        break\n",
    "    else:\n",
    "        boxes_raw.append(row)\n",
    "\n",
    "for i in SortedList(boxes_raw):\n",
    "    matriz_letter.append(i.replace(\"]\", \",\").replace(\"[\", \",\").replace(\", ,\", \",\")[1:-1].replace('   ', \"0\").split(','))\n",
    "\n",
    "matriz = np.zeros((len(matriz_letter),len(matriz_letter[-1])))\n",
    "\n",
    "for i in range(len(matriz_letter)):\n",
    "    for k in range(len(matriz_letter[i])):\n",
    "        for number,letter in enumerate(crate2num):\n",
    "            if matriz_letter[i][k].find(letter) != -1:\n",
    "                # print(matriz_letter[i][k],crate2num[letter])\n",
    "                matriz[i][k] = crate2num[letter]\n"
   ]
  },
  {
   "cell_type": "code",
   "execution_count": 16,
   "metadata": {},
   "outputs": [
    {
     "data": {
      "text/plain": [
       "array([[ 0., 10.,  0.,  2., 23.,  0.,  0.,  0.,  0.],\n",
       "       [ 0., 20.,  0., 23.,  6., 18., 26.,  0.,  0.],\n",
       "       [ 0., 17., 13.,  0., 10., 18., 23.,  8.,  0.],\n",
       "       [ 0.,  6., 12., 16.,  0., 18., 14., 26.,  7.],\n",
       "       [ 6., 13., 19., 17.,  0., 13., 16., 19.,  3.],\n",
       "       [12., 22., 18., 22., 23., 16.,  3., 16., 10.],\n",
       "       [13., 26., 22., 19., 19., 22., 17.,  8., 13.],\n",
       "       [23.,  2.,  8.,  6., 12.,  6., 10., 22.,  2.]])"
      ]
     },
     "execution_count": 16,
     "metadata": {},
     "output_type": "execute_result"
    }
   ],
   "source": [
    "matriz"
   ]
  },
  {
   "cell_type": "code",
   "execution_count": null,
   "metadata": {},
   "outputs": [],
   "source": []
  }
 ],
 "metadata": {
  "kernelspec": {
   "display_name": "Python 3.9.12 ('base')",
   "language": "python",
   "name": "python3"
  },
  "language_info": {
   "codemirror_mode": {
    "name": "ipython",
    "version": 3
   },
   "file_extension": ".py",
   "mimetype": "text/x-python",
   "name": "python",
   "nbconvert_exporter": "python",
   "pygments_lexer": "ipython3",
   "version": "3.9.12"
  },
  "orig_nbformat": 4,
  "vscode": {
   "interpreter": {
    "hash": "5179d32cf6ec497baf3f8a3ef987cc77c5d2dc691fdde20a56316522f61a7323"
   }
  }
 },
 "nbformat": 4,
 "nbformat_minor": 2
}
