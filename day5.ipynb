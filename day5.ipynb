{
 "cells": [
  {
   "cell_type": "code",
   "execution_count": 1,
   "metadata": {},
   "outputs": [],
   "source": [
    "import numpy as np\n",
    "from string import ascii_uppercase\n",
    "from load import get_data\n",
    "from sortedcontainers import SortedList"
   ]
  },
  {
   "cell_type": "code",
   "execution_count": 2,
   "metadata": {},
   "outputs": [],
   "source": [
    "file_ex, file_data = get_data('day5')"
   ]
  },
  {
   "cell_type": "code",
   "execution_count": 3,
   "metadata": {},
   "outputs": [],
   "source": [
    "ex = file_ex.read().split(\"\\n\")\n",
    "data = file_data.read().split(\"\\n\")"
   ]
  },
  {
   "cell_type": "code",
   "execution_count": 4,
   "metadata": {},
   "outputs": [
    {
     "data": {
      "text/plain": [
       "['    [D]    ',\n",
       " '[N] [C]    ',\n",
       " '[Z] [M] [P]',\n",
       " ' 1   2   3 ',\n",
       " '',\n",
       " 'move 1 from 2 to 1',\n",
       " 'move 3 from 1 to 3',\n",
       " 'move 2 from 2 to 1',\n",
       " 'move 1 from 1 to 2']"
      ]
     },
     "execution_count": 4,
     "metadata": {},
     "output_type": "execute_result"
    }
   ],
   "source": [
    "ex"
   ]
  },
  {
   "cell_type": "code",
   "execution_count": 258,
   "metadata": {},
   "outputs": [
    {
     "name": "stdout",
     "output_type": "stream",
     "text": [
      "[[ 0.  4.  0.]\n",
      " [14.  3.  0.]\n",
      " [26. 13. 16.]]\n"
     ]
    }
   ],
   "source": [
    "matriz_letter = []\n",
    "boxes_raw = []\n",
    "moves = []\n",
    "\n",
    "crate2num = dict(zip(ascii_uppercase, range(1,27)))\n",
    "\n",
    "for irow in range(len(ex)):\n",
    "    if ' 1' in ex[irow]:\n",
    "        for i in ex[irow+2:]:\n",
    "            moves.append(np.asarray(i.replace(\"move \", \"\").replace(\" from \", \" \").replace(\" to \", \" \").split(),dtype=int))\n",
    "        break\n",
    "    else:\n",
    "        boxes_raw.append(ex[irow])\n",
    "\n",
    "for i in SortedList(boxes_raw):\n",
    "    matriz_letter.append(i.replace(\"]\", \",\").replace(\"[\", \",\").replace(\", ,\", \",\")[1:-1].replace('   ', \"0\").split(','))\n",
    "\n",
    "matriz = np.zeros((len(matriz_letter),len(matriz_letter[-1])))\n",
    "\n",
    "for i in range(len(matriz_letter)):\n",
    "    for k in range(len(matriz_letter[i])):\n",
    "        for number,letter in enumerate(crate2num):\n",
    "            if matriz_letter[i][k].find(letter) != -1:\n",
    "                matriz[i][k] = crate2num[letter]\n",
    "\n",
    "print(matriz)\n",
    "\n",
    "matriz_t = np.concatenate((np.zeros(matriz.shape),matriz))"
   ]
  },
  {
   "cell_type": "code",
   "execution_count": 259,
   "metadata": {},
   "outputs": [
    {
     "data": {
      "text/plain": [
       "array([[ 0.,  0.,  0.],\n",
       "       [ 0.,  0.,  0.],\n",
       "       [ 0.,  0.,  0.],\n",
       "       [ 0.,  4.,  0.],\n",
       "       [14.,  3.,  0.],\n",
       "       [26., 13., 16.]])"
      ]
     },
     "execution_count": 259,
     "metadata": {},
     "output_type": "execute_result"
    }
   ],
   "source": [
    "matriz_t"
   ]
  },
  {
   "cell_type": "code",
   "execution_count": 245,
   "metadata": {},
   "outputs": [
    {
     "name": "stdout",
     "output_type": "stream",
     "text": [
      "moving 1 box from colum 2 to 1\n",
      "to [0. 0. 0. 0.] from  [0. 0. 0. 4.]\n",
      "moving 3 box from colum 1 to 3\n",
      "to [ 0.  0.  0.  0.  0. 16.] from  [ 0.  0.  0.  4. 14. 26.]\n",
      "moving 2 box from colum 2 to 1\n",
      "to [ 0.  0.  0.  4. 14.] from  [0. 0. 0. 4. 3.]\n",
      "moving 1 box from colum 1 to 2\n",
      "to [0. 0. 0. 4.] from  [0. 0. 0. 4.]\n"
     ]
    }
   ],
   "source": [
    "\n",
    "for i in range(len(moves)):\n",
    "    moving = moves[i][0]+3\n",
    "    to = moves[i][2]-1\n",
    "    col = moves[i][1]-1\n",
    "\n",
    "    print(f\"moving {moving-3} box from colum {col+1} to {to+1}\")\n",
    "\n",
    "    print(f'to {matriz_t[:,to][:moving]} from  {matriz_t[:,col][:moving]}')\n",
    "    # print( matriz[:,to-1][:moving],matriz[:,col-1][:moving])\n",
    "    matriz_t[:,to][:moving] = matriz_t[:,col][:moving]\n",
    "    # print(matriz,matriz[:,col-1][-moving:])\n",
    "    # matriz_t[:,col][:moving] = np.zeros(moving)\n",
    "    # print(matriz)\n"
   ]
  },
  {
   "cell_type": "code",
   "execution_count": 248,
   "metadata": {},
   "outputs": [
    {
     "name": "stdout",
     "output_type": "stream",
     "text": [
      "0.0\n",
      "4.0\n",
      "0.0\n",
      "14.0\n",
      "3.0\n",
      "0.0\n",
      "26.0\n",
      "13.0\n",
      "16.0\n"
     ]
    }
   ],
   "source": [
    "for k in range(len(moves)):\n",
    "    for i in range(matriz.shape[0]):\n",
    "        for k in range(matriz.shape[0]):\n",
    "            print(matriz[i][k])"
   ]
  },
  {
   "cell_type": "code",
   "execution_count": 262,
   "metadata": {},
   "outputs": [
    {
     "data": {
      "text/plain": [
       "array([ 0.,  0.,  0.,  0.,  0., 16.])"
      ]
     },
     "execution_count": 262,
     "metadata": {},
     "output_type": "execute_result"
    }
   ],
   "source": [
    "matriz_t[:,2]"
   ]
  },
  {
   "cell_type": "code",
   "execution_count": 280,
   "metadata": {},
   "outputs": [],
   "source": [
    "tt = list(matriz[:,2])"
   ]
  },
  {
   "cell_type": "code",
   "execution_count": 281,
   "metadata": {},
   "outputs": [],
   "source": [
    "tt.insert(2, 6)"
   ]
  },
  {
   "cell_type": "code",
   "execution_count": 282,
   "metadata": {},
   "outputs": [
    {
     "data": {
      "text/plain": [
       "[0.0, 0.0, 6, 16.0]"
      ]
     },
     "execution_count": 282,
     "metadata": {},
     "output_type": "execute_result"
    }
   ],
   "source": [
    "tt"
   ]
  },
  {
   "cell_type": "code",
   "execution_count": 287,
   "metadata": {},
   "outputs": [],
   "source": [
    "teste = []\n",
    "for i in matriz.T:\n",
    "    teste.append(list(i))"
   ]
  },
  {
   "cell_type": "code",
   "execution_count": 288,
   "metadata": {},
   "outputs": [
    {
     "data": {
      "text/plain": [
       "[[0.0, 14.0, 26.0], [4.0, 3.0, 13.0], [0.0, 0.0, 16.0]]"
      ]
     },
     "execution_count": 288,
     "metadata": {},
     "output_type": "execute_result"
    }
   ],
   "source": [
    "teste"
   ]
  },
  {
   "cell_type": "code",
   "execution_count": 289,
   "metadata": {},
   "outputs": [
    {
     "data": {
      "text/plain": [
       "[array([1, 2, 1]), array([3, 1, 3]), array([2, 2, 1]), array([1, 1, 2])]"
      ]
     },
     "execution_count": 289,
     "metadata": {},
     "output_type": "execute_result"
    }
   ],
   "source": [
    "moves"
   ]
  },
  {
   "cell_type": "code",
   "execution_count": null,
   "metadata": {},
   "outputs": [],
   "source": []
  }
 ],
 "metadata": {
  "kernelspec": {
   "display_name": "Python 3.9.15 ('base')",
   "language": "python",
   "name": "python3"
  },
  "language_info": {
   "codemirror_mode": {
    "name": "ipython",
    "version": 3
   },
   "file_extension": ".py",
   "mimetype": "text/x-python",
   "name": "python",
   "nbconvert_exporter": "python",
   "pygments_lexer": "ipython3",
   "version": "3.9.15"
  },
  "orig_nbformat": 4,
  "vscode": {
   "interpreter": {
    "hash": "b7e7f70a1c53850bbacb0bdeede57f0a732d69689caac396cbf838bb9eb0c778"
   }
  }
 },
 "nbformat": 4,
 "nbformat_minor": 2
}
