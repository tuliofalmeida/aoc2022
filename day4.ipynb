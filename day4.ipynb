{
 "cells": [
  {
   "cell_type": "code",
   "execution_count": 1,
   "metadata": {},
   "outputs": [],
   "source": [
    "import numpy as np\n",
    "from load import get_data"
   ]
  },
  {
   "cell_type": "code",
   "execution_count": 2,
   "metadata": {},
   "outputs": [],
   "source": [
    "file_ex, file_data = get_data('day4')\n",
    "\n",
    "ex = file_ex.read().split(\"\\n\")\n",
    "data = file_data.read().split(\"\\n\")"
   ]
  },
  {
   "cell_type": "markdown",
   "metadata": {},
   "source": [
    "--- Part One ---\n",
    "\n",
    "This example list uses single-digit section IDs to make it easier to draw; your actual list might contain larger numbers. Visually, these pairs of section assignments look like this:\n",
    "\n",
    "    .234.....  2-4\n",
    "    .....678.  6-8\n",
    "\n",
    "    .23......  2-3\n",
    "    ...45....  4-5\n",
    "\n",
    "    ....567..  5-7\n",
    "    ......789  7-9\n",
    "\n",
    "    .2345678.  2-8\n",
    "    ..34567..  3-7\n",
    "\n",
    "    .....6...  6-6\n",
    "    ...456...  4-6\n",
    "\n",
    "    .23456...  2-6\n",
    "    ...45678.  4-8\n",
    "\n",
    "Some of the pairs have noticed that one of their assignments fully contains the other. For example, 2-8 fully contains 3-7, and 6-6 is fully contained by 4-6. In pairs where one assignment fully contains the other, one Elf in the pair would be exclusively cleaning sections their partner will already be cleaning, so these seem like the most in need of reconsideration. In this example, there are 2 such pairs.\n",
    "\n",
    "--- Part Two ---\n",
    "\n",
    "It seems like there is still quite a bit of duplicate work planned. Instead, the Elves would like to know the number of pairs that overlap at all.\n",
    "\n",
    "In the above example, the first two pairs (2-4,6-8 and 2-3,4-5) don't overlap, while the remaining four pairs (5-7,7-9, 2-8,3-7, 6-6,4-6, and 2-6,4-8) do overlap:\n",
    "\n",
    "    5-7,7-9 overlaps in a single section, 7.\n",
    "    2-8,3-7 overlaps all of the sections 3 through 7.\n",
    "    6-6,4-6 overlaps in a single section, 6.\n",
    "    2-6,4-8 overlaps in sections 4, 5, and 6.\n"
   ]
  },
  {
   "cell_type": "code",
   "execution_count": 3,
   "metadata": {},
   "outputs": [],
   "source": [
    "def day4(data):\n",
    "\n",
    "    # pre-processing the data to facilitate manipulation\n",
    "    data = [data[i].split(',') for i in range(len(data))]\n",
    "    data = [[data[i][0].split('-'),data[i][1].split('-')] for i in range(len(data))]\n",
    "    data = np.asarray([[data[i][0][0],data[i][0][1],data[i][1][0],data[i][1][1]] for i in range(len(data))],dtype=int)\n",
    "\n",
    "    # part one: checking if the range contains the entire group\n",
    "    count = 0\n",
    "    for i in range(len(data)):\n",
    "        if data[i][0] >= data[i][2] and data[i][1] <= data[i][3]:\n",
    "            count += 1\n",
    "        elif data[i][0] <= data[i][2] and data[i][1] >= data[i][3]:\n",
    "            count += 1\n",
    "\n",
    "    print('The amount of pairs that fully contain the other:',count)\n",
    "\n",
    "    # parte two: checking if there is any intersection between the groups\n",
    "    count = 0\n",
    "    for i in range(len(data)):\n",
    "        g1 = np.arange(data[i][0],data[i][1]+1)\n",
    "        g2 = np.arange(data[i][2],data[i][3]+1)\n",
    "        if len(np.intersect1d(g1,g2)) > 0:\n",
    "            count+=1\n",
    "\n",
    "    print('The number of pairs that overlap is:',count)"
   ]
  },
  {
   "cell_type": "code",
   "execution_count": 4,
   "metadata": {},
   "outputs": [
    {
     "name": "stdout",
     "output_type": "stream",
     "text": [
      "The amount of pairs that fully contain the other: 496\n",
      "The number of pairs that overlap is: 847\n"
     ]
    }
   ],
   "source": [
    "day4(data)"
   ]
  }
 ],
 "metadata": {
  "kernelspec": {
   "display_name": "Python 3.9.12 ('base')",
   "language": "python",
   "name": "python3"
  },
  "language_info": {
   "codemirror_mode": {
    "name": "ipython",
    "version": 3
   },
   "file_extension": ".py",
   "mimetype": "text/x-python",
   "name": "python",
   "nbconvert_exporter": "python",
   "pygments_lexer": "ipython3",
   "version": "3.9.12"
  },
  "orig_nbformat": 4,
  "vscode": {
   "interpreter": {
    "hash": "5179d32cf6ec497baf3f8a3ef987cc77c5d2dc691fdde20a56316522f61a7323"
   }
  }
 },
 "nbformat": 4,
 "nbformat_minor": 2
}
