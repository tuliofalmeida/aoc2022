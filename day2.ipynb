{
 "cells": [
  {
   "cell_type": "code",
   "execution_count": 1,
   "metadata": {},
   "outputs": [],
   "source": [
    "import numpy as np\n",
    "from load import get_data"
   ]
  },
  {
   "cell_type": "code",
   "execution_count": 2,
   "metadata": {},
   "outputs": [],
   "source": [
    "file_ex, file_data = get_data('day2')\n",
    "\n",
    "ex = file_ex.read().split(\"\\n\")\n",
    "data = file_data.read().split(\"\\n\")"
   ]
  },
  {
   "cell_type": "markdown",
   "metadata": {},
   "source": [
    "--- Part One ---\n",
    "\n",
    "The winner of the whole tournament is the player with the highest score. Your total score is the sum of your scores for each round. The score for a single round is the score for the shape you selected:\n",
    "\n",
    "    - 1 for Rock (A and X), \n",
    "    - 2 for Paper (B and Y), and \n",
    "    - 3 for Scissors (C and Z)\n",
    "\n",
    "plus the score for the outcome of the round:\n",
    "\n",
    "    - 0 if you lost, \n",
    "    - 3 if the round was a draw, and \n",
    "    - 6 if you won."
   ]
  },
  {
   "cell_type": "markdown",
   "metadata": {},
   "source": [
    "--- Part Two ---\n",
    "\n",
    "The total score is still calculated in the same way, but now you need to figure out what shape to choose so the round ends as indicated. The example above now goes like this:\n",
    "\n",
    "    In the first round, your opponent will choose Rock (A), and you need the round to end in a draw (Y), so you also choose Rock. This gives you a score of 1 + 3 = 4.\n",
    "    In the second round, your opponent will choose Paper (B), and you choose Rock so you lose (X) with a score of 1 + 0 = 1.\n",
    "    In the third round, you will defeat your opponent's Scissors with Rock for a score of 1 + 6 = 7.\n"
   ]
  },
  {
   "cell_type": "code",
   "execution_count": 3,
   "metadata": {},
   "outputs": [],
   "source": [
    "def day2(data):\n",
    "\n",
    "    list1 = ['A','B','C']\n",
    "    list2 = ['X','Y','Z']\n",
    "    values1 = [4,8,3,1,5,9,7,2,6]\n",
    "    values2 = [3,4,8,1,5,9,2,6,7]\n",
    "    dict_res1 = {}\n",
    "    dict_res2 = {}\n",
    "    points1 = 0\n",
    "    points2 = 0\n",
    "\n",
    "    for abc in list1:\n",
    "        for xyz in list2:\n",
    "            dict_res1[abc+' '+xyz] = 0\n",
    "\n",
    "    for value,comb in enumerate(dict_res1.keys()):\n",
    "        dict_res1[comb] = values1[value]\n",
    "        dict_res2[comb] = values2[value]\n",
    "\n",
    "    for rps in data:\n",
    "        for value,comb in enumerate(dict_res1.keys()):\n",
    "            if rps == comb:\n",
    "                points1 += dict_res1[comb]\n",
    "                points2 += dict_res2[comb]\n",
    "\n",
    "    print('Points Part 1:',points1)\n",
    "    print('Points Part 2:',points2)"
   ]
  },
  {
   "cell_type": "code",
   "execution_count": 4,
   "metadata": {},
   "outputs": [
    {
     "name": "stdout",
     "output_type": "stream",
     "text": [
      "Points Part 1: 14163\n",
      "Points Part 2: 12091\n"
     ]
    }
   ],
   "source": [
    "day2(data)"
   ]
  }
 ],
 "metadata": {
  "kernelspec": {
   "display_name": "Python 3.9.12 ('base')",
   "language": "python",
   "name": "python3"
  },
  "language_info": {
   "codemirror_mode": {
    "name": "ipython",
    "version": 3
   },
   "file_extension": ".py",
   "mimetype": "text/x-python",
   "name": "python",
   "nbconvert_exporter": "python",
   "pygments_lexer": "ipython3",
   "version": "3.9.12"
  },
  "orig_nbformat": 4,
  "vscode": {
   "interpreter": {
    "hash": "5179d32cf6ec497baf3f8a3ef987cc77c5d2dc691fdde20a56316522f61a7323"
   }
  }
 },
 "nbformat": 4,
 "nbformat_minor": 2
}
