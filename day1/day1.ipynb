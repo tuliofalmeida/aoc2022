{
 "cells": [
  {
   "cell_type": "code",
   "execution_count": 44,
   "metadata": {},
   "outputs": [],
   "source": [
    "file_ex = open('E:\\GitHub\\\\aoc-2022\\day1\\ex.txt', 'r')\n",
    "ex = file_ex.read().replace(\" \",\"\\n\").split(\"\\n\")"
   ]
  },
  {
   "cell_type": "code",
   "execution_count": 63,
   "metadata": {},
   "outputs": [
    {
     "data": {
      "text/plain": [
       "['1000',\n",
       " '2000',\n",
       " '3000',\n",
       " '',\n",
       " '4000',\n",
       " '',\n",
       " '5000',\n",
       " '6000',\n",
       " '',\n",
       " '7000',\n",
       " '8000',\n",
       " '9000',\n",
       " '',\n",
       " '10000']"
      ]
     },
     "execution_count": 63,
     "metadata": {},
     "output_type": "execute_result"
    }
   ],
   "source": [
    "ex"
   ]
  },
  {
   "cell_type": "code",
   "execution_count": 61,
   "metadata": {},
   "outputs": [
    {
     "name": "stdout",
     "output_type": "stream",
     "text": [
      "0 1000\n"
     ]
    },
    {
     "ename": "KeyError",
     "evalue": "'1'",
     "output_type": "error",
     "traceback": [
      "\u001b[1;31m---------------------------------------------------------------------------\u001b[0m",
      "\u001b[1;31mKeyError\u001b[0m                                  Traceback (most recent call last)",
      "Cell \u001b[1;32mIn [61], line 5\u001b[0m\n\u001b[0;32m      3\u001b[0m \u001b[39mfor\u001b[39;00m idx,cal \u001b[39min\u001b[39;00m \u001b[39menumerate\u001b[39m(ex):\n\u001b[0;32m      4\u001b[0m     \u001b[39mprint\u001b[39m(idx,cal)\n\u001b[1;32m----> 5\u001b[0m     ex_data[\u001b[39mstr\u001b[39;49m(elf)]\u001b[39m.\u001b[39mappend(cal)\n",
      "\u001b[1;31mKeyError\u001b[0m: '1'"
     ]
    }
   ],
   "source": [
    "ex_data = {}\n",
    "elf = 1\n",
    "for idx,cal in enumerate(ex):\n",
    "    print(idx,cal)\n",
    "    ex_data[elf] = cal\n",
    "    if len(i) != 0:\n",
    "        ex_data[].append(i)"
   ]
  },
  {
   "cell_type": "code",
   "execution_count": 62,
   "metadata": {},
   "outputs": [
    {
     "data": {
      "text/plain": [
       "{}"
      ]
     },
     "execution_count": 62,
     "metadata": {},
     "output_type": "execute_result"
    }
   ],
   "source": [
    "ex_data"
   ]
  },
  {
   "cell_type": "code",
   "execution_count": null,
   "metadata": {},
   "outputs": [],
   "source": []
  }
 ],
 "metadata": {
  "kernelspec": {
   "display_name": "Python 3.9.15 ('base')",
   "language": "python",
   "name": "python3"
  },
  "language_info": {
   "codemirror_mode": {
    "name": "ipython",
    "version": 3
   },
   "file_extension": ".py",
   "mimetype": "text/x-python",
   "name": "python",
   "nbconvert_exporter": "python",
   "pygments_lexer": "ipython3",
   "version": "3.9.15"
  },
  "orig_nbformat": 4,
  "vscode": {
   "interpreter": {
    "hash": "b7e7f70a1c53850bbacb0bdeede57f0a732d69689caac396cbf838bb9eb0c778"
   }
  }
 },
 "nbformat": 4,
 "nbformat_minor": 2
}
